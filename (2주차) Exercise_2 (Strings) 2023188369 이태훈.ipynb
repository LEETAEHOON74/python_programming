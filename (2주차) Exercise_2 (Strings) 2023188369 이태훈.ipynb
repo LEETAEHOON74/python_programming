{
  "nbformat": 4,
  "nbformat_minor": 0,
  "metadata": {
    "colab": {
      "provenance": []
    },
    "kernelspec": {
      "name": "python3",
      "display_name": "Python 3"
    },
    "language_info": {
      "name": "python"
    }
  },
  "cells": [
    {
      "cell_type": "markdown",
      "source": [
        "Exercise Strings 2023188369 이태훈"
      ],
      "metadata": {
        "id": "kuRK4kFi1NyF"
      }
    },
    {
      "cell_type": "markdown",
      "source": [
        "What is the value of the variable A after the following code is executed?"
      ],
      "metadata": {
        "id": "COUl-D_Z1TnI"
      }
    },
    {
      "cell_type": "code",
      "source": [
        "A = \"1\"\n",
        "print(A)"
      ],
      "metadata": {
        "colab": {
          "base_uri": "https://localhost:8080/"
        },
        "id": "iyKL8Gu91V0_",
        "outputId": "3d0216b5-9a92-4ec5-f6b4-920960c2c9a6"
      },
      "execution_count": 2,
      "outputs": [
        {
          "output_type": "stream",
          "name": "stdout",
          "text": [
            "1\n"
          ]
        }
      ]
    },
    {
      "cell_type": "markdown",
      "source": [
        "What is the value of the variable B after the following code is executed?"
      ],
      "metadata": {
        "id": "Ir2nncZr1fVU"
      }
    },
    {
      "cell_type": "code",
      "source": [
        "B = \"2\"\n",
        "print(B)"
      ],
      "metadata": {
        "colab": {
          "base_uri": "https://localhost:8080/"
        },
        "id": "SxrLVbzA1iKI",
        "outputId": "1c284fbd-5d72-4fd8-a197-71c45ceb3bdf"
      },
      "execution_count": 3,
      "outputs": [
        {
          "output_type": "stream",
          "name": "stdout",
          "text": [
            "2\n"
          ]
        }
      ]
    },
    {
      "cell_type": "markdown",
      "source": [
        "What is the value of the variable C after the following code is executed?"
      ],
      "metadata": {
        "id": "dCv3oLzL1l8I"
      }
    },
    {
      "cell_type": "code",
      "source": [
        "C = A + B\n",
        "print(C)"
      ],
      "metadata": {
        "colab": {
          "base_uri": "https://localhost:8080/"
        },
        "id": "E-mYi63M1n6K",
        "outputId": "c2f4f4e2-511b-4e0e-b242-6f5fc68e9567"
      },
      "execution_count": 4,
      "outputs": [
        {
          "output_type": "stream",
          "name": "stdout",
          "text": [
            "12\n"
          ]
        }
      ]
    },
    {
      "cell_type": "markdown",
      "source": [
        "Consider the variable D use slicing to print out the first three elements:"
      ],
      "metadata": {
        "id": "2SdRpBi91424"
      }
    },
    {
      "cell_type": "code",
      "source": [
        "D = \"ABCDEFG\"\n",
        "print(D[0:3])"
      ],
      "metadata": {
        "colab": {
          "base_uri": "https://localhost:8080/"
        },
        "id": "Rc4ac6oc16kP",
        "outputId": "51994c7a-75ae-4d17-de83-1a1787cc7238"
      },
      "execution_count": 5,
      "outputs": [
        {
          "output_type": "stream",
          "name": "stdout",
          "text": [
            "ABC\n"
          ]
        }
      ]
    },
    {
      "cell_type": "markdown",
      "source": [
        "Use a stride value of 2 to print out every second character of the string E:"
      ],
      "metadata": {
        "id": "LzCdO6iZ2Aiy"
      }
    },
    {
      "cell_type": "code",
      "source": [
        "E = 'clocrkr1e1c1t'\n",
        "print(E[::2])"
      ],
      "metadata": {
        "colab": {
          "base_uri": "https://localhost:8080/"
        },
        "id": "Q-pSylWv2DGd",
        "outputId": "779143a4-071d-4055-8d34-ea3602f87172"
      },
      "execution_count": 6,
      "outputs": [
        {
          "output_type": "stream",
          "name": "stdout",
          "text": [
            "correct\n"
          ]
        }
      ]
    },
    {
      "cell_type": "markdown",
      "source": [
        "Print out a backslash:"
      ],
      "metadata": {
        "id": "qQ_Rl5fS2N3m"
      }
    },
    {
      "cell_type": "code",
      "source": [
        "print('\\\\')"
      ],
      "metadata": {
        "colab": {
          "base_uri": "https://localhost:8080/"
        },
        "id": "2G56-wR92QCz",
        "outputId": "0da2cf30-3343-41de-94e8-a99be03d7c93"
      },
      "execution_count": 7,
      "outputs": [
        {
          "output_type": "stream",
          "name": "stdout",
          "text": [
            "\\\n"
          ]
        }
      ]
    },
    {
      "cell_type": "markdown",
      "source": [
        "Convert the variable F to uppercase:"
      ],
      "metadata": {
        "id": "zScEP_6r2U6H"
      }
    },
    {
      "cell_type": "code",
      "source": [
        "F = \"You are wrong\"\n",
        "F1 = F.upper()\n",
        "F1"
      ],
      "metadata": {
        "colab": {
          "base_uri": "https://localhost:8080/",
          "height": 35
        },
        "id": "VbsfufzA2XiU",
        "outputId": "404d1c85-294f-4453-909b-8167f4f9c39b"
      },
      "execution_count": 8,
      "outputs": [
        {
          "output_type": "execute_result",
          "data": {
            "text/plain": [
              "'YOU ARE WRONG'"
            ],
            "application/vnd.google.colaboratory.intrinsic+json": {
              "type": "string"
            }
          },
          "metadata": {},
          "execution_count": 8
        }
      ]
    },
    {
      "cell_type": "markdown",
      "source": [
        "Consider the variable G, and find the first index of the sub-string snow:"
      ],
      "metadata": {
        "id": "KrGyBtWS2f9A"
      }
    },
    {
      "cell_type": "code",
      "source": [
        "G = \"Mary had a little lamb Little lamb, little lamb Mary had a little lamb \\\n",
        "Its fleece was white as snow And everywhere that Mary went Mary went, Mary went \\\n",
        "Everywhere that Mary went The lamb was sure to go\"\n",
        "G.find('snow')"
      ],
      "metadata": {
        "colab": {
          "base_uri": "https://localhost:8080/"
        },
        "id": "oibJiyx32lKz",
        "outputId": "c8148a12-1af4-4c89-a5d7-d717f4b0293b"
      },
      "execution_count": 9,
      "outputs": [
        {
          "output_type": "execute_result",
          "data": {
            "text/plain": [
              "95"
            ]
          },
          "metadata": {},
          "execution_count": 9
        }
      ]
    },
    {
      "cell_type": "markdown",
      "source": [
        "In the variable G, replace the sub-string Mary with Bob:"
      ],
      "metadata": {
        "id": "rFrGnMWm2sqL"
      }
    },
    {
      "cell_type": "code",
      "source": [
        "G1 = G.replace(\"Mary\",\"Bob\")\n",
        "G1"
      ],
      "metadata": {
        "colab": {
          "base_uri": "https://localhost:8080/",
          "height": 35
        },
        "id": "dd6VmSPh2tE-",
        "outputId": "388d0641-c4c2-4768-dd2d-d00d431beea2"
      },
      "execution_count": 10,
      "outputs": [
        {
          "output_type": "execute_result",
          "data": {
            "text/plain": [
              "'Bob had a little lamb Little lamb, little lamb Bob had a little lamb Its fleece was white as snow And everywhere that Bob went Bob went, Bob went Everywhere that Bob went The lamb was sure to go'"
            ],
            "application/vnd.google.colaboratory.intrinsic+json": {
              "type": "string"
            }
          },
          "metadata": {},
          "execution_count": 10
        }
      ]
    }
  ]
}