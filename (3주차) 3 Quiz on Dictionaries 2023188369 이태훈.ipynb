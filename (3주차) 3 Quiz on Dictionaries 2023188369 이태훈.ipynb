{
  "nbformat": 4,
  "nbformat_minor": 0,
  "metadata": {
    "colab": {
      "provenance": []
    },
    "kernelspec": {
      "name": "python3",
      "display_name": "Python 3"
    },
    "language_info": {
      "name": "python"
    }
  },
  "cells": [
    {
      "cell_type": "markdown",
      "source": [
        "Quiz on Dictionaries 2023188369 이태훈"
      ],
      "metadata": {
        "id": "USUxL5hn_yZZ"
      }
    },
    {
      "cell_type": "markdown",
      "source": [
        "You will need this dictionary for the next two questions:"
      ],
      "metadata": {
        "id": "lMpENaEN_1ft"
      }
    },
    {
      "cell_type": "code",
      "source": [
        "soundtrack_dic = {\"The Bodyguard\":\"1992\", \"Saturday Night Fever\":\"1977\"}\n",
        "soundtrack_dic"
      ],
      "metadata": {
        "colab": {
          "base_uri": "https://localhost:8080/"
        },
        "id": "D4ewGlcu_4CD",
        "outputId": "e88ac694-5380-4d18-8224-49e81c8671d0"
      },
      "execution_count": 9,
      "outputs": [
        {
          "output_type": "execute_result",
          "data": {
            "text/plain": [
              "{'The Bodyguard': '1992', 'Saturday Night Fever': '1977'}"
            ]
          },
          "metadata": {},
          "execution_count": 9
        }
      ]
    },
    {
      "cell_type": "markdown",
      "source": [
        "a) In the dictionary soundtrack_dict what are the keys ?"
      ],
      "metadata": {
        "id": "HhfguhEg_7M0"
      }
    },
    {
      "cell_type": "code",
      "source": [
        "soundtrack_dic.keys() # The Keys \"The Bodyguard\" and \"Saturday Night Fever\""
      ],
      "metadata": {
        "colab": {
          "base_uri": "https://localhost:8080/"
        },
        "id": "LKrYoWbs_869",
        "outputId": "bac5c44e-0f76-4dfd-8f2b-83f4b4d53e56"
      },
      "execution_count": 2,
      "outputs": [
        {
          "output_type": "execute_result",
          "data": {
            "text/plain": [
              "dict_keys(['The Bodyguard', 'Saturday Night Fever'])"
            ]
          },
          "metadata": {},
          "execution_count": 2
        }
      ]
    },
    {
      "cell_type": "markdown",
      "source": [
        "b) In the dictionary soundtrack_dict what are the values ?"
      ],
      "metadata": {
        "id": "sMZ8mafwAA1q"
      }
    },
    {
      "cell_type": "code",
      "source": [
        "soundtrack_dic.values() # The values are \"1992\" and \"1977\""
      ],
      "metadata": {
        "colab": {
          "base_uri": "https://localhost:8080/"
        },
        "id": "E39oMS6vADB1",
        "outputId": "5c6e3b59-cf42-4ab7-bf25-f1aa2aa73b76"
      },
      "execution_count": 3,
      "outputs": [
        {
          "output_type": "execute_result",
          "data": {
            "text/plain": [
              "dict_values(['1992', '1977'])"
            ]
          },
          "metadata": {},
          "execution_count": 3
        }
      ]
    },
    {
      "cell_type": "markdown",
      "source": [
        "You will need this dictionary for the following questions:\n",
        "The Albums Back in Black, The Bodyguard and Thriller have the following music recording sales in millions 50, 50 and 65 respectively:"
      ],
      "metadata": {
        "id": "inUAlneAAOkv"
      }
    },
    {
      "cell_type": "markdown",
      "source": [
        "a) Create a dictionary album_sales_dict where the keys are the album name and the sales in millions are the values."
      ],
      "metadata": {
        "id": "5--awa6JBEl2"
      }
    },
    {
      "cell_type": "code",
      "source": [
        "album_sales_dict = {\"The Bodyguard\":50, \"Back in Black\":50, \"Thriller\":65}\n",
        "album_sales_dict"
      ],
      "metadata": {
        "colab": {
          "base_uri": "https://localhost:8080/"
        },
        "id": "zJaxhg0kATWq",
        "outputId": "e05a9440-8bf2-4279-a930-bb67b4e6e2fe"
      },
      "execution_count": 10,
      "outputs": [
        {
          "output_type": "execute_result",
          "data": {
            "text/plain": [
              "{'The Bodyguard': 50, 'Back in Black': 50, 'Thriller': 65}"
            ]
          },
          "metadata": {},
          "execution_count": 10
        }
      ]
    },
    {
      "cell_type": "markdown",
      "source": [
        "b) Use the dictionary to find the total sales of Thriller:"
      ],
      "metadata": {
        "id": "TVuLIoqnAVYa"
      }
    },
    {
      "cell_type": "code",
      "source": [
        "album_sales_dict[\"Thriller\"]"
      ],
      "metadata": {
        "colab": {
          "base_uri": "https://localhost:8080/"
        },
        "id": "Aba5pmyYAW9M",
        "outputId": "47b23f3b-c778-4df0-c0de-16e82223a162"
      },
      "execution_count": 6,
      "outputs": [
        {
          "output_type": "execute_result",
          "data": {
            "text/plain": [
              "65"
            ]
          },
          "metadata": {},
          "execution_count": 6
        }
      ]
    },
    {
      "cell_type": "markdown",
      "source": [
        "c) Find the names of the albums from the dictionary using the method keys:"
      ],
      "metadata": {
        "id": "ydRzb4VMAY8q"
      }
    },
    {
      "cell_type": "code",
      "source": [
        "album_sales_dict.keys()"
      ],
      "metadata": {
        "colab": {
          "base_uri": "https://localhost:8080/"
        },
        "id": "4Atg-xBDAcBp",
        "outputId": "f8b3011b-591d-4d56-cabc-ca9eb80cd6cb"
      },
      "execution_count": 7,
      "outputs": [
        {
          "output_type": "execute_result",
          "data": {
            "text/plain": [
              "dict_keys(['The Bodyguard', 'Back in Black', 'Thriller'])"
            ]
          },
          "metadata": {},
          "execution_count": 7
        }
      ]
    },
    {
      "cell_type": "markdown",
      "source": [
        "d) Find the names of the recording sales from the dictionary using the method values:"
      ],
      "metadata": {
        "id": "aDY3PPlVAd0_"
      }
    },
    {
      "cell_type": "code",
      "source": [
        "album_sales_dict.values()"
      ],
      "metadata": {
        "colab": {
          "base_uri": "https://localhost:8080/"
        },
        "id": "8Padbdj7AfkK",
        "outputId": "9a7e4efa-666f-47b0-9c08-cf97b6e5ddb5"
      },
      "execution_count": 8,
      "outputs": [
        {
          "output_type": "execute_result",
          "data": {
            "text/plain": [
              "dict_values([50, 50, 65])"
            ]
          },
          "metadata": {},
          "execution_count": 8
        }
      ]
    }
  ]
}