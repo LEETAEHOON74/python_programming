{
  "nbformat": 4,
  "nbformat_minor": 0,
  "metadata": {
    "colab": {
      "provenance": []
    },
    "kernelspec": {
      "name": "python3",
      "display_name": "Python 3"
    },
    "language_info": {
      "name": "python"
    }
  },
  "cells": [
    {
      "cell_type": "markdown",
      "source": [
        "Quiz on Functions 2023188369 이태훈"
      ],
      "metadata": {
        "id": "DACekpQFEe8x"
      }
    },
    {
      "cell_type": "markdown",
      "source": [
        "Come up with a function that divides the first input by the second input:"
      ],
      "metadata": {
        "id": "rdIZf4SyEjiQ"
      }
    },
    {
      "cell_type": "code",
      "source": [
        "def div(a, b):\n",
        "    return(a/b)"
      ],
      "metadata": {
        "id": "pr5t8bYEEsEy"
      },
      "execution_count": 1,
      "outputs": []
    },
    {
      "cell_type": "markdown",
      "source": [
        "Use the function con for the following question."
      ],
      "metadata": {
        "id": "52nWQ4KfExkK"
      }
    },
    {
      "cell_type": "code",
      "source": [
        "# Use the con function for the following question\n",
        "\n",
        "def con(a, b):\n",
        "    return(a + b)"
      ],
      "metadata": {
        "id": "wlxLd6cxE8n1"
      },
      "execution_count": 2,
      "outputs": []
    },
    {
      "cell_type": "markdown",
      "source": [
        "Can the con function we defined before be used to add to integers or strings?"
      ],
      "metadata": {
        "id": "yhoxwtH_FBPh"
      }
    },
    {
      "cell_type": "code",
      "source": [
        "# yes, for example:\n",
        "\n",
        "con(2, 2)"
      ],
      "metadata": {
        "colab": {
          "base_uri": "https://localhost:8080/"
        },
        "id": "FvWYrWgRFGzb",
        "outputId": "b078d164-30fe-43fa-bc3c-61b89c9e7eb6"
      },
      "execution_count": 8,
      "outputs": [
        {
          "output_type": "execute_result",
          "data": {
            "text/plain": [
              "4"
            ]
          },
          "metadata": {},
          "execution_count": 8
        }
      ]
    },
    {
      "cell_type": "markdown",
      "source": [
        "Can the con function we defined before be used to concentrate a list or tuple?"
      ],
      "metadata": {
        "id": "8p6-EzcPF_f9"
      }
    },
    {
      "cell_type": "code",
      "source": [
        "con(['a', 1], ['b', 1])"
      ],
      "metadata": {
        "colab": {
          "base_uri": "https://localhost:8080/"
        },
        "id": "jmOXxqdpGAil",
        "outputId": "5454ba69-4392-4d38-cc56-41e12df26f95"
      },
      "execution_count": 9,
      "outputs": [
        {
          "output_type": "execute_result",
          "data": {
            "text/plain": [
              "['a', 1, 'b', 1]"
            ]
          },
          "metadata": {},
          "execution_count": 9
        }
      ]
    }
  ]
}