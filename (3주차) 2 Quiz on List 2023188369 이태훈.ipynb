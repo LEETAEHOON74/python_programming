{
  "nbformat": 4,
  "nbformat_minor": 0,
  "metadata": {
    "colab": {
      "provenance": []
    },
    "kernelspec": {
      "name": "python3",
      "display_name": "Python 3"
    },
    "language_info": {
      "name": "python"
    }
  },
  "cells": [
    {
      "cell_type": "markdown",
      "source": [
        "Quiz on List 2023188369 이태훈"
      ],
      "metadata": {
        "id": "3uZbyhDg-r_C"
      }
    },
    {
      "cell_type": "markdown",
      "source": [
        "Create a list a_list, with the following elements 1, hello, [1,2,3] and True."
      ],
      "metadata": {
        "id": "SL0SY_9b-vJB"
      }
    },
    {
      "cell_type": "code",
      "source": [
        "a_list = [1, 'hello', [1, 2, 3] , True]\n",
        "a_list"
      ],
      "metadata": {
        "colab": {
          "base_uri": "https://localhost:8080/"
        },
        "id": "uY_EY1uN-wfK",
        "outputId": "e5b31611-dade-4c29-940d-585bc716ef18"
      },
      "execution_count": 1,
      "outputs": [
        {
          "output_type": "execute_result",
          "data": {
            "text/plain": [
              "[1, 'hello', [1, 2, 3], True]"
            ]
          },
          "metadata": {},
          "execution_count": 1
        }
      ]
    },
    {
      "cell_type": "markdown",
      "source": [
        "Find the value stored at index 1 of a_list."
      ],
      "metadata": {
        "id": "KkaihHek-yYI"
      }
    },
    {
      "cell_type": "code",
      "source": [
        "a_list[1]"
      ],
      "metadata": {
        "colab": {
          "base_uri": "https://localhost:8080/",
          "height": 35
        },
        "id": "LjQHOId6-0ie",
        "outputId": "425de321-d9c9-49d7-8338-5f4457163391"
      },
      "execution_count": 2,
      "outputs": [
        {
          "output_type": "execute_result",
          "data": {
            "text/plain": [
              "'hello'"
            ],
            "application/vnd.google.colaboratory.intrinsic+json": {
              "type": "string"
            }
          },
          "metadata": {},
          "execution_count": 2
        }
      ]
    },
    {
      "cell_type": "markdown",
      "source": [
        "Retrieve the elements stored at index 1, 2 and 3 of a_list."
      ],
      "metadata": {
        "id": "FtMvvMVr-2av"
      }
    },
    {
      "cell_type": "code",
      "source": [
        "a_list[1:4]"
      ],
      "metadata": {
        "colab": {
          "base_uri": "https://localhost:8080/"
        },
        "id": "-gFy9b7L-4Qw",
        "outputId": "61804caf-c4a0-4f22-9eef-2112ae4881eb"
      },
      "execution_count": 3,
      "outputs": [
        {
          "output_type": "execute_result",
          "data": {
            "text/plain": [
              "['hello', [1, 2, 3], True]"
            ]
          },
          "metadata": {},
          "execution_count": 3
        }
      ]
    },
    {
      "cell_type": "markdown",
      "source": [
        "Concatenate the following lists A = [1, 'a'] and B = [2, 1, 'd']:"
      ],
      "metadata": {
        "id": "RnVFcXLl-6YM"
      }
    },
    {
      "cell_type": "code",
      "source": [
        "A = [1, 'a']\n",
        "B = [2, 1, 'd']\n",
        "A + B"
      ],
      "metadata": {
        "colab": {
          "base_uri": "https://localhost:8080/"
        },
        "id": "0roVqpmc-8KM",
        "outputId": "97e3599f-b995-428a-eea1-03f4448b896b"
      },
      "execution_count": 4,
      "outputs": [
        {
          "output_type": "execute_result",
          "data": {
            "text/plain": [
              "[1, 'a', 2, 1, 'd']"
            ]
          },
          "metadata": {},
          "execution_count": 4
        }
      ]
    }
  ]
}