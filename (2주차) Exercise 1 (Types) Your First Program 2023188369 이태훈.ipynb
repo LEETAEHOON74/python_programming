{
  "nbformat": 4,
  "nbformat_minor": 0,
  "metadata": {
    "colab": {
      "provenance": []
    },
    "kernelspec": {
      "name": "python3",
      "display_name": "Python 3"
    },
    "language_info": {
      "name": "python"
    }
  },
  "cells": [
    {
      "cell_type": "markdown",
      "source": [
        "Exercise 1 (Types): Your First Program 2023188369 이태훈"
      ],
      "metadata": {
        "id": "udZjV4Pqppb1"
      }
    },
    {
      "cell_type": "markdown",
      "source": [
        "Generations of programmers have started their coding careers by simply printing \"Hello, world!\". You will be following in their footsteps.\n",
        "\n",
        "In the code cell below, use the print() function to print out the phrase: Hello, world!"
      ],
      "metadata": {
        "id": "sUHNSNtTqEYN"
      }
    },
    {
      "cell_type": "code",
      "source": [
        "print(\"Hello, world!\")"
      ],
      "metadata": {
        "id": "ePwtHAWJqFeQ",
        "colab": {
          "base_uri": "https://localhost:8080/"
        },
        "outputId": "817a05a8-17a2-464a-f96e-b5ea518f8271"
      },
      "execution_count": 1,
      "outputs": [
        {
          "output_type": "stream",
          "name": "stdout",
          "text": [
            "Hello, world!\n"
          ]
        }
      ]
    },
    {
      "cell_type": "markdown",
      "source": [
        "Now, let's enhance your code with a comment. In the code cell below, print out the phrase: Hello, world! and comment it with the phrase Print the traditional hello world all in one line of code."
      ],
      "metadata": {
        "id": "tOq9cYZaq2qy"
      }
    },
    {
      "cell_type": "code",
      "source": [
        "print(\"Hello, world!\") # Print the traditional hello world"
      ],
      "metadata": {
        "id": "g43TJeSbq4Ar",
        "colab": {
          "base_uri": "https://localhost:8080/"
        },
        "outputId": "84d2d94b-9afc-4ce6-fa96-c422d8b28604"
      },
      "execution_count": 2,
      "outputs": [
        {
          "output_type": "stream",
          "name": "stdout",
          "text": [
            "Hello, world!\n"
          ]
        }
      ]
    },
    {
      "cell_type": "markdown",
      "source": [
        "Exercise 2 (Types): Get the object type"
      ],
      "metadata": {
        "id": "N1vYhBcIq-El"
      }
    },
    {
      "cell_type": "markdown",
      "source": [
        "In the code cell below, use the type() function to check the object type of 12.0."
      ],
      "metadata": {
        "id": "-K17lRGMrDjw"
      }
    },
    {
      "cell_type": "code",
      "source": [
        "type(12.0)"
      ],
      "metadata": {
        "id": "DwnQKJrKrFLU",
        "colab": {
          "base_uri": "https://localhost:8080/"
        },
        "outputId": "16e24706-cefd-492e-8d87-6f0710ec2489"
      },
      "execution_count": 3,
      "outputs": [
        {
          "output_type": "execute_result",
          "data": {
            "text/plain": [
              "float"
            ]
          },
          "metadata": {},
          "execution_count": 3
        }
      ]
    },
    {
      "cell_type": "markdown",
      "source": [
        "Exercise 3 (Types): Types"
      ],
      "metadata": {
        "id": "0n1xUQwrrXCU"
      }
    },
    {
      "cell_type": "markdown",
      "source": [
        "What is the data type of the result of: 6 / 2?"
      ],
      "metadata": {
        "id": "jgTWDBejrZUR"
      }
    },
    {
      "cell_type": "code",
      "source": [
        "6/2"
      ],
      "metadata": {
        "id": "GDvmM0DhrbIp",
        "colab": {
          "base_uri": "https://localhost:8080/"
        },
        "outputId": "648f335f-2a85-48f5-81d5-992f98588886"
      },
      "execution_count": 4,
      "outputs": [
        {
          "output_type": "execute_result",
          "data": {
            "text/plain": [
              "3.0"
            ]
          },
          "metadata": {},
          "execution_count": 4
        }
      ]
    },
    {
      "cell_type": "markdown",
      "source": [
        "What is the type of the result of: 6 // 2? (Note the double slash //.)"
      ],
      "metadata": {
        "id": "G3uAmKIarlL0"
      }
    },
    {
      "cell_type": "code",
      "source": [
        "type(6//2) # int, as the double slashes stand for integer division"
      ],
      "metadata": {
        "id": "opmUQuDjrmL4",
        "colab": {
          "base_uri": "https://localhost:8080/"
        },
        "outputId": "f947d5f5-7a16-4187-ff3c-2e9d44bcb9a4"
      },
      "execution_count": 5,
      "outputs": [
        {
          "output_type": "execute_result",
          "data": {
            "text/plain": [
              "int"
            ]
          },
          "metadata": {},
          "execution_count": 5
        }
      ]
    },
    {
      "cell_type": "markdown",
      "source": [
        "Exercise 4 (Types): Expression"
      ],
      "metadata": {
        "id": "V0-GhQtprt3S"
      }
    },
    {
      "cell_type": "markdown",
      "source": [
        "Let's write an expression that calculates how many hours there are in 160 minutes:"
      ],
      "metadata": {
        "id": "Qd9Vz5x1rxYV"
      }
    },
    {
      "cell_type": "code",
      "source": [
        "160//60"
      ],
      "metadata": {
        "id": "N1IDCys9rzJ2",
        "colab": {
          "base_uri": "https://localhost:8080/"
        },
        "outputId": "ff25e580-053a-4f4c-ca1f-909138ef02d0"
      },
      "execution_count": 6,
      "outputs": [
        {
          "output_type": "execute_result",
          "data": {
            "text/plain": [
              "2"
            ]
          },
          "metadata": {},
          "execution_count": 6
        }
      ]
    },
    {
      "cell_type": "markdown",
      "source": [
        "Exercise 5 (Types): Expression and Variables in Python"
      ],
      "metadata": {
        "id": "C5QP-kytr37B"
      }
    },
    {
      "cell_type": "markdown",
      "source": [
        "What is the value of x where x = 3 + 2 * 2"
      ],
      "metadata": {
        "id": "N0b8iccer-GP"
      }
    },
    {
      "cell_type": "code",
      "source": [
        "x = 3 + 2 * 2\n",
        "print(x)"
      ],
      "metadata": {
        "id": "jRrusYVksHqz",
        "colab": {
          "base_uri": "https://localhost:8080/"
        },
        "outputId": "269ee3d1-a92b-4df7-c321-e593b773d92e"
      },
      "execution_count": 7,
      "outputs": [
        {
          "output_type": "stream",
          "name": "stdout",
          "text": [
            "7\n"
          ]
        }
      ]
    },
    {
      "cell_type": "markdown",
      "source": [
        "What is the value of y where y = (3 + 2) * 2?"
      ],
      "metadata": {
        "id": "G7NyDHFpsTNa"
      }
    },
    {
      "cell_type": "code",
      "source": [
        "y = (3 + 2) * 2\n",
        "print(y)"
      ],
      "metadata": {
        "id": "nRIyBgC0sXTi",
        "colab": {
          "base_uri": "https://localhost:8080/"
        },
        "outputId": "18331b11-f29f-476c-a97d-f7a47c6419dd"
      },
      "execution_count": 8,
      "outputs": [
        {
          "output_type": "stream",
          "name": "stdout",
          "text": [
            "10\n"
          ]
        }
      ]
    },
    {
      "cell_type": "markdown",
      "source": [
        "What is the value of z where z = x + y?"
      ],
      "metadata": {
        "id": "VItBlPDXsYv5"
      }
    },
    {
      "cell_type": "code",
      "source": [
        "z = x + y\n",
        "print(z)"
      ],
      "metadata": {
        "id": "iStoKiHXsalM",
        "colab": {
          "base_uri": "https://localhost:8080/"
        },
        "outputId": "8d146d9b-a56c-4c12-ebb8-5de58dadcf94"
      },
      "execution_count": 9,
      "outputs": [
        {
          "output_type": "stream",
          "name": "stdout",
          "text": [
            "17\n"
          ]
        }
      ]
    }
  ]
}